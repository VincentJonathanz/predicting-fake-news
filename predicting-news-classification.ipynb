{
 "cells": [
  {
   "cell_type": "markdown",
   "id": "787b7723",
   "metadata": {},
   "source": [
    "# Predicting Real or fake news\n",
    "\n",
    "\n",
    "# 1.Problem Definion\n",
    "\n",
    ">Given a information about news , can we predict whether the news is real or fake ?\n"
   ]
  },
  {
   "cell_type": "markdown",
   "id": "041c2f62",
   "metadata": {},
   "source": [
    "# 2.Data\n",
    "\n",
    "The original data come from https://data-flair.training/blogs/advanced-python-project-detecting-fake-news/"
   ]
  },
  {
   "cell_type": "markdown",
   "id": "e6ff23c3",
   "metadata": {},
   "source": [
    "# 3.Evaluation\n",
    "\n",
    ">If we can reach  >=90% accuracy of predicting whether the news is real or fake during the proof concept, we'll pursue the project"
   ]
  },
  {
   "cell_type": "markdown",
   "id": "4950de9b",
   "metadata": {},
   "source": [
    "# 4.Features\n",
    "**Data Dictionary**\n",
    "\n",
    "News.Csv:\n",
    "* First column : Identifies the news,\n",
    "* Second col : Title\n",
    "* Third col : Text,\n",
    "* Fourth col : Labels denoting whether the news is REAL or FAKE.\n",
    "\n",
    "News.Csv :\n",
    "* Shape : 7796×4\n",
    "* Space : 29.2MB"
   ]
  },
  {
   "cell_type": "markdown",
   "id": "793d0849",
   "metadata": {},
   "source": [
    "**Create variable of data dictionary**"
   ]
  },
  {
   "cell_type": "code",
   "execution_count": 1,
   "id": "995da4a4",
   "metadata": {},
   "outputs": [],
   "source": [
    "data_dict ={\n",
    " 'First column' : 'Identifies the news',\n",
    " 'Second col' : 'Title',\n",
    " 'Third col': 'Text',\n",
    " 'Fourth col' : 'Labels denoting whether the news is REAL or FAKE.'\n",
    "}"
   ]
  },
  {
   "cell_type": "markdown",
   "id": "7aa8c2c3",
   "metadata": {},
   "source": [
    "### Preparing basic tools\n"
   ]
  },
  {
   "cell_type": "code",
   "execution_count": 2,
   "id": "3ddcd38e",
   "metadata": {},
   "outputs": [],
   "source": [
    "import pandas as pd\n",
    "import numpy as np\n",
    "import matplotlib.pyplot as plt\n",
    "%matplotlib inline\n"
   ]
  },
  {
   "cell_type": "markdown",
   "id": "0a338e99",
   "metadata": {},
   "source": [
    "**Load the data**"
   ]
  },
  {
   "cell_type": "code",
   "execution_count": 3,
   "id": "fb6361bf",
   "metadata": {},
   "outputs": [],
   "source": [
    "df = pd.read_csv('Data/news.csv')"
   ]
  },
  {
   "cell_type": "markdown",
   "id": "5311f13a",
   "metadata": {},
   "source": [
    "## Data exploration (Exploratory data analysis)\n",
    "\n",
    "The key is to be subjet matter on our exploration"
   ]
  },
  {
   "cell_type": "code",
   "execution_count": 4,
   "id": "c0152ecf",
   "metadata": {},
   "outputs": [
    {
     "data": {
      "text/html": [
       "<div>\n",
       "<style scoped>\n",
       "    .dataframe tbody tr th:only-of-type {\n",
       "        vertical-align: middle;\n",
       "    }\n",
       "\n",
       "    .dataframe tbody tr th {\n",
       "        vertical-align: top;\n",
       "    }\n",
       "\n",
       "    .dataframe thead th {\n",
       "        text-align: right;\n",
       "    }\n",
       "</style>\n",
       "<table border=\"1\" class=\"dataframe\">\n",
       "  <thead>\n",
       "    <tr style=\"text-align: right;\">\n",
       "      <th></th>\n",
       "      <th>Unnamed: 0</th>\n",
       "      <th>title</th>\n",
       "      <th>text</th>\n",
       "      <th>label</th>\n",
       "    </tr>\n",
       "  </thead>\n",
       "  <tbody>\n",
       "    <tr>\n",
       "      <th>0</th>\n",
       "      <td>8476</td>\n",
       "      <td>You Can Smell Hillary’s Fear</td>\n",
       "      <td>Daniel Greenfield, a Shillman Journalism Fello...</td>\n",
       "      <td>FAKE</td>\n",
       "    </tr>\n",
       "    <tr>\n",
       "      <th>1</th>\n",
       "      <td>10294</td>\n",
       "      <td>Watch The Exact Moment Paul Ryan Committed Pol...</td>\n",
       "      <td>Google Pinterest Digg Linkedin Reddit Stumbleu...</td>\n",
       "      <td>FAKE</td>\n",
       "    </tr>\n",
       "    <tr>\n",
       "      <th>2</th>\n",
       "      <td>3608</td>\n",
       "      <td>Kerry to go to Paris in gesture of sympathy</td>\n",
       "      <td>U.S. Secretary of State John F. Kerry said Mon...</td>\n",
       "      <td>REAL</td>\n",
       "    </tr>\n",
       "    <tr>\n",
       "      <th>3</th>\n",
       "      <td>10142</td>\n",
       "      <td>Bernie supporters on Twitter erupt in anger ag...</td>\n",
       "      <td>— Kaydee King (@KaydeeKing) November 9, 2016 T...</td>\n",
       "      <td>FAKE</td>\n",
       "    </tr>\n",
       "    <tr>\n",
       "      <th>4</th>\n",
       "      <td>875</td>\n",
       "      <td>The Battle of New York: Why This Primary Matters</td>\n",
       "      <td>It's primary day in New York and front-runners...</td>\n",
       "      <td>REAL</td>\n",
       "    </tr>\n",
       "  </tbody>\n",
       "</table>\n",
       "</div>"
      ],
      "text/plain": [
       "   Unnamed: 0                                              title  \\\n",
       "0        8476                       You Can Smell Hillary’s Fear   \n",
       "1       10294  Watch The Exact Moment Paul Ryan Committed Pol...   \n",
       "2        3608        Kerry to go to Paris in gesture of sympathy   \n",
       "3       10142  Bernie supporters on Twitter erupt in anger ag...   \n",
       "4         875   The Battle of New York: Why This Primary Matters   \n",
       "\n",
       "                                                text label  \n",
       "0  Daniel Greenfield, a Shillman Journalism Fello...  FAKE  \n",
       "1  Google Pinterest Digg Linkedin Reddit Stumbleu...  FAKE  \n",
       "2  U.S. Secretary of State John F. Kerry said Mon...  REAL  \n",
       "3  — Kaydee King (@KaydeeKing) November 9, 2016 T...  FAKE  \n",
       "4  It's primary day in New York and front-runners...  REAL  "
      ]
     },
     "execution_count": 4,
     "metadata": {},
     "output_type": "execute_result"
    }
   ],
   "source": [
    "df.head()"
   ]
  },
  {
   "cell_type": "code",
   "execution_count": 5,
   "id": "6084bdae",
   "metadata": {},
   "outputs": [
    {
     "name": "stdout",
     "output_type": "stream",
     "text": [
      "<class 'pandas.core.frame.DataFrame'>\n",
      "RangeIndex: 6335 entries, 0 to 6334\n",
      "Data columns (total 4 columns):\n",
      " #   Column      Non-Null Count  Dtype \n",
      "---  ------      --------------  ----- \n",
      " 0   Unnamed: 0  6335 non-null   int64 \n",
      " 1   title       6335 non-null   object\n",
      " 2   text        6335 non-null   object\n",
      " 3   label       6335 non-null   object\n",
      "dtypes: int64(1), object(3)\n",
      "memory usage: 198.1+ KB\n"
     ]
    }
   ],
   "source": [
    "df.info()"
   ]
  },
  {
   "cell_type": "code",
   "execution_count": 8,
   "id": "b3b65f71",
   "metadata": {},
   "outputs": [
    {
     "data": {
      "text/plain": [
       "Unnamed: 0     int64\n",
       "title         object\n",
       "text          object\n",
       "label         object\n",
       "dtype: object"
      ]
     },
     "execution_count": 8,
     "metadata": {},
     "output_type": "execute_result"
    }
   ],
   "source": [
    "df.dtypes"
   ]
  },
  {
   "cell_type": "markdown",
   "id": "dfc34248",
   "metadata": {},
   "source": [
    "We need to convert our data to numerical value"
   ]
  },
  {
   "cell_type": "code",
   "execution_count": 9,
   "id": "6ae171f7",
   "metadata": {},
   "outputs": [
    {
     "data": {
      "text/plain": [
       "Unnamed: 0    0\n",
       "title         0\n",
       "text          0\n",
       "label         0\n",
       "dtype: int64"
      ]
     },
     "execution_count": 9,
     "metadata": {},
     "output_type": "execute_result"
    }
   ],
   "source": [
    "df.isna().sum()"
   ]
  },
  {
   "cell_type": "code",
   "execution_count": 10,
   "id": "bee8b2a0",
   "metadata": {},
   "outputs": [
    {
     "data": {
      "text/plain": [
       "REAL    3171\n",
       "FAKE    3164\n",
       "Name: label, dtype: int64"
      ]
     },
     "execution_count": 10,
     "metadata": {},
     "output_type": "execute_result"
    }
   ],
   "source": [
    "#Comparing the real and fake label\n",
    "df['label'].value_counts()\n"
   ]
  },
  {
   "cell_type": "code",
   "execution_count": 11,
   "id": "f7d2986e",
   "metadata": {},
   "outputs": [
    {
     "data": {
      "text/plain": [
       "<AxesSubplot:title={'center':'Real vs Fake'}>"
      ]
     },
     "execution_count": 11,
     "metadata": {},
     "output_type": "execute_result"
    },
    {
     "data": {
      "image/png": "[encoded data removed]",
      "text/plain": [
       "<Figure size 432x288 with 1 Axes>"
      ]
     },
     "metadata": {
      "needs_background": "light"
     },
     "output_type": "display_data"
    }
   ],
   "source": [
    "#Visualize comparison\n",
    "df['label'].value_counts().plot(kind='bar',\n",
    "                                title='Real vs Fake')"
   ]
  },
  {
   "cell_type": "markdown",
   "id": "7824feed",
   "metadata": {},
   "source": [
    "# 5.Modeling"
   ]
  },
  {
   "cell_type": "markdown",
   "id": "5186db4d",
   "metadata": {},
   "source": [
    "## 1.Get the data ready\n",
    "\n",
    "Since our data haven't on numerical value, \n",
    "\n",
    "let's get the data ready with these following step:\n",
    "1. Splitting\n",
    "2. Converting with OneHot Encoder"
   ]
  },
  {
   "cell_type": "code",
   "execution_count": 12,
   "id": "23d58484",
   "metadata": {},
   "outputs": [],
   "source": [
    "# Preparing tools\n",
    "from sklearn.compose import ColumnTransformer\n",
    "from sklearn.preprocessing import OneHotEncoder\n",
    "from sklearn.model_selection import train_test_split, RandomizedSearchCV, GridSearchCV\n",
    "from sklearn.pipeline import Pipeline\n",
    "from sklearn.feature_extraction.text import CountVectorizer,TfidfTransformer, TfidfVectorizer\n",
    "from sklearn.ensemble import RandomForestClassifier\n",
    "from sklearn.neighbors import KNeighborsClassifier\n",
    "from sklearn.linear_model import LogisticRegression\n",
    "from catboost import CatBoostClassifier\n",
    "from xgboost import XGBClassifier\n"
   ]
  },
  {
   "cell_type": "code",
   "execution_count": 13,
   "id": "6ea416a9",
   "metadata": {},
   "outputs": [
    {
     "data": {
      "text/html": [
       "<div>\n",
       "<style scoped>\n",
       "    .dataframe tbody tr th:only-of-type {\n",
       "        vertical-align: middle;\n",
       "    }\n",
       "\n",
       "    .dataframe tbody tr th {\n",
       "        vertical-align: top;\n",
       "    }\n",
       "\n",
       "    .dataframe thead th {\n",
       "        text-align: right;\n",
       "    }\n",
       "</style>\n",
       "<table border=\"1\" class=\"dataframe\">\n",
       "  <thead>\n",
       "    <tr style=\"text-align: right;\">\n",
       "      <th></th>\n",
       "      <th>Unnamed: 0</th>\n",
       "      <th>title</th>\n",
       "      <th>text</th>\n",
       "      <th>label</th>\n",
       "    </tr>\n",
       "  </thead>\n",
       "  <tbody>\n",
       "    <tr>\n",
       "      <th>0</th>\n",
       "      <td>8476</td>\n",
       "      <td>You Can Smell Hillary’s Fear</td>\n",
       "      <td>Daniel Greenfield, a Shillman Journalism Fello...</td>\n",
       "      <td>FAKE</td>\n",
       "    </tr>\n",
       "    <tr>\n",
       "      <th>1</th>\n",
       "      <td>10294</td>\n",
       "      <td>Watch The Exact Moment Paul Ryan Committed Pol...</td>\n",
       "      <td>Google Pinterest Digg Linkedin Reddit Stumbleu...</td>\n",
       "      <td>FAKE</td>\n",
       "    </tr>\n",
       "    <tr>\n",
       "      <th>2</th>\n",
       "      <td>3608</td>\n",
       "      <td>Kerry to go to Paris in gesture of sympathy</td>\n",
       "      <td>U.S. Secretary of State John F. Kerry said Mon...</td>\n",
       "      <td>REAL</td>\n",
       "    </tr>\n",
       "    <tr>\n",
       "      <th>3</th>\n",
       "      <td>10142</td>\n",
       "      <td>Bernie supporters on Twitter erupt in anger ag...</td>\n",
       "      <td>— Kaydee King (@KaydeeKing) November 9, 2016 T...</td>\n",
       "      <td>FAKE</td>\n",
       "    </tr>\n",
       "    <tr>\n",
       "      <th>4</th>\n",
       "      <td>875</td>\n",
       "      <td>The Battle of New York: Why This Primary Matters</td>\n",
       "      <td>It's primary day in New York and front-runners...</td>\n",
       "      <td>REAL</td>\n",
       "    </tr>\n",
       "  </tbody>\n",
       "</table>\n",
       "</div>"
      ],
      "text/plain": [
       "   Unnamed: 0                                              title  \\\n",
       "0        8476                       You Can Smell Hillary’s Fear   \n",
       "1       10294  Watch The Exact Moment Paul Ryan Committed Pol...   \n",
       "2        3608        Kerry to go to Paris in gesture of sympathy   \n",
       "3       10142  Bernie supporters on Twitter erupt in anger ag...   \n",
       "4         875   The Battle of New York: Why This Primary Matters   \n",
       "\n",
       "                                                text label  \n",
       "0  Daniel Greenfield, a Shillman Journalism Fello...  FAKE  \n",
       "1  Google Pinterest Digg Linkedin Reddit Stumbleu...  FAKE  \n",
       "2  U.S. Secretary of State John F. Kerry said Mon...  REAL  \n",
       "3  — Kaydee King (@KaydeeKing) November 9, 2016 T...  FAKE  \n",
       "4  It's primary day in New York and front-runners...  REAL  "
      ]
     },
     "execution_count": 13,
     "metadata": {},
     "output_type": "execute_result"
    }
   ],
   "source": [
    "df.head()"
   ]
  },
  {
   "cell_type": "markdown",
   "id": "bcc058a2",
   "metadata": {},
   "source": [
    "### Splitting our data"
   ]
  },
  {
   "cell_type": "code",
   "execution_count": 14,
   "id": "080cd8a6",
   "metadata": {},
   "outputs": [],
   "source": [
    "#Split into features and label\n",
    "X= df['text'] # I have no idea why we can't use the entire columns\n",
    "y= df['label']\n",
    "\n",
    "#Split into train test set\n",
    "np.random.seed(42)\n",
    "X_train, X_test, y_train, y_test = train_test_split(X,y , test_size=0.2)"
   ]
  },
  {
   "cell_type": "markdown",
   "id": "d3d56be3",
   "metadata": {},
   "source": [
    "### Converting our data to num value with TfidfVectorizer"
   ]
  },
  {
   "cell_type": "code",
   "execution_count": 15,
   "id": "889618aa",
   "metadata": {},
   "outputs": [],
   "source": [
    "tfidf = TfidfVectorizer(stop_words='english', )\n",
    "\n",
    "tfidf_X_train = tfidf.fit_transform(X_train)\n",
    "\n",
    "tfidf_X_test = tfidf.transform(X_test)"
   ]
  },
  {
   "cell_type": "markdown",
   "id": "932e8592",
   "metadata": {},
   "source": [
    "## 2.Pick Up Model  \n",
    "What are we going to use is text classification model which are not exist on sklearn machine learning map\n",
    "\n",
    "Let's try:\n",
    "* PassiveAggresiveClassifier()\n",
    "* SGDClassifier()\n",
    "* MultiNomialNB()\n",
    "* SVC()"
   ]
  },
  {
   "cell_type": "code",
   "execution_count": 16,
   "id": "735976e8",
   "metadata": {},
   "outputs": [],
   "source": [
    "from sklearn.linear_model import PassiveAggressiveClassifier, SGDClassifier\n",
    "from sklearn.naive_bayes import MultinomialNB\n",
    "from sklearn.svm import SVC\n",
    "\n",
    "\n",
    "models = {\n",
    "    'Pass_Agg': PassiveAggressiveClassifier(),\n",
    "    'Multi_nomial': MultinomialNB(),\n",
    "    'SVC': SVC(),\n",
    "    'SGD': SGDClassifier()\n",
    " }\n",
    "model_score = {}\n",
    "    \n",
    "for name,model in models.items():\n",
    "    \n",
    "    np.random.seed(42)\n",
    "    \n",
    "  \n",
    "    #Fit model\n",
    "    model.fit(X=tfidf_X_train, \n",
    "              y= y_train)\n",
    "    \n",
    "    #Create new key['Name'] with value model score\n",
    "    model_score[name] = model.score(tfidf_X_test, y_test)\n",
    "   "
   ]
  },
  {
   "cell_type": "code",
   "execution_count": 17,
   "id": "47559040",
   "metadata": {},
   "outputs": [
    {
     "data": {
      "text/plain": [
       "{'Pass_Agg': 0.9376479873717443,\n",
       " 'Multi_nomial': 0.8453038674033149,\n",
       " 'SVC': 0.930544593528019,\n",
       " 'SGD': 0.9384372533543804}"
      ]
     },
     "execution_count": 17,
     "metadata": {},
     "output_type": "execute_result"
    }
   ],
   "source": [
    "model_score"
   ]
  },
  {
   "cell_type": "markdown",
   "id": "b95c7446",
   "metadata": {},
   "source": [
    "## 3.Improve model\n",
    "The highest score accuracy is PassiveAggreziveClassifier and SGDClassifier, let's try improve them with tune the hyperparam"
   ]
  },
  {
   "cell_type": "markdown",
   "id": "81a7b79a",
   "metadata": {},
   "source": [
    "### 3.1.Tune PassiveAggressiveClassifier"
   ]
  },
  {
   "cell_type": "code",
   "execution_count": 18,
   "id": "4b58cbce",
   "metadata": {},
   "outputs": [
    {
     "name": "stdout",
     "output_type": "stream",
     "text": [
      "Fitting 5 folds for each of 10 candidates, totalling 50 fits\n"
     ]
    },
    {
     "data": {
      "text/plain": [
       "GridSearchCV(cv=5, estimator=PassiveAggressiveClassifier(),\n",
       "             param_grid={'class_weight': ['balanced', None],\n",
       "                         'validation_fraction': [0.1, 0.2, 0.3, 0.4, 0.5]},\n",
       "             verbose=True)"
      ]
     },
     "execution_count": 18,
     "metadata": {},
     "output_type": "execute_result"
    }
   ],
   "source": [
    "np.random.seed(42)\n",
    "pass_agg = PassiveAggressiveClassifier()\n",
    "\n",
    "#Create grid\n",
    "pass_agg_grid ={\n",
    "    'validation_fraction':[0.1,0.2,0.3,0.4,0.5],\n",
    "    'class_weight': ['balanced', None]\n",
    "}\n",
    "\n",
    "#Instantiate gs pass_agg\n",
    "gs_pass_agg = GridSearchCV(pass_agg,\n",
    "                           param_grid=pass_agg_grid,\n",
    "                           cv=5,\n",
    "                          verbose=True)\n",
    "\n",
    "#Fit the model to data\n",
    "gs_pass_agg.fit(tfidf_X_train, y_train)\n",
    "\n"
   ]
  },
  {
   "cell_type": "code",
   "execution_count": 19,
   "id": "f967513e",
   "metadata": {},
   "outputs": [
    {
     "name": "stdout",
     "output_type": "stream",
     "text": [
      "The highest score is: 0.9352801894238358\n",
      "The best params is: {'class_weight': 'balanced', 'validation_fraction': 0.4}\n"
     ]
    }
   ],
   "source": [
    "print(f'The highest score is: {gs_pass_agg.score(tfidf_X_test, y_test)}')\n",
    "print(f'The best params is: {gs_pass_agg.best_params_}')"
   ]
  },
  {
   "cell_type": "markdown",
   "id": "3edd4da0",
   "metadata": {},
   "source": [
    "Since there is no improvement, Let's tune another model"
   ]
  },
  {
   "cell_type": "markdown",
   "id": "9eeccad1",
   "metadata": {},
   "source": [
    "### Tune SGDClassifier hyperparameter"
   ]
  },
  {
   "cell_type": "code",
   "execution_count": 20,
   "id": "72c28068",
   "metadata": {},
   "outputs": [
    {
     "ename": "SyntaxError",
     "evalue": "unexpected EOF while parsing (<ipython-input-20-1533a364a0b9>, line 4)",
     "output_type": "error",
     "traceback": [
      "\u001b[1;36m  File \u001b[1;32m\"<ipython-input-20-1533a364a0b9>\"\u001b[1;36m, line \u001b[1;32m4\u001b[0m\n\u001b[1;33m    \"penalty\" : [\"l2\", \"l1\", \"none\"]\u001b[0m\n\u001b[1;37m                                    ^\u001b[0m\n\u001b[1;31mSyntaxError\u001b[0m\u001b[1;31m:\u001b[0m unexpected EOF while parsing\n"
     ]
    }
   ],
   "source": [
    "\n",
    "params = {\n",
    "    \"loss\" : [\"hinge\", \"log\", \"squared_hinge\", \"modified_huber\"],\n",
    "    \"alpha\" : [0.0001, 0.001, 0.01, 0.1],\n",
    "    \"penalty\" : [\"l2\", \"l1\", \"none\"]"
   ]
  },
  {
   "cell_type": "code",
   "execution_count": 21,
   "id": "db9a43f4",
   "metadata": {},
   "outputs": [
    {
     "name": "stdout",
     "output_type": "stream",
     "text": [
      "Fitting 5 folds for each of 36 candidates, totalling 180 fits\n"
     ]
    },
    {
     "name": "stderr",
     "output_type": "stream",
     "text": [
      "C:\\Users\\ROG\\AppData\\Roaming\\Python\\Python39\\site-packages\\sklearn\\linear_model\\_stochastic_gradient.py:574: ConvergenceWarning: Maximum number of iteration reached before convergence. Consider increasing max_iter to improve the fit.\n",
      "  warnings.warn(\"Maximum number of iteration reached before \"\n",
      "C:\\Users\\ROG\\AppData\\Roaming\\Python\\Python39\\site-packages\\sklearn\\linear_model\\_stochastic_gradient.py:574: ConvergenceWarning: Maximum number of iteration reached before convergence. Consider increasing max_iter to improve the fit.\n",
      "  warnings.warn(\"Maximum number of iteration reached before \"\n"
     ]
    },
    {
     "data": {
      "text/plain": [
       "GridSearchCV(cv=5, estimator=SGDClassifier(),\n",
       "             param_grid={'alpha': [0.01, 0.1, 0.0001, 0.001],\n",
       "                         'loss': ['hinge', 'log', 'squared_hinge'],\n",
       "                         'penalty': ['none', 'l2', 'l1']},\n",
       "             verbose=True)"
      ]
     },
     "execution_count": 21,
     "metadata": {},
     "output_type": "execute_result"
    }
   ],
   "source": [
    "sgd = SGDClassifier(max_iter= 1000)\n",
    "\n",
    "sgd_grid = {\n",
    "    'loss' : ['hinge', 'log', \"squared_hinge\"],\n",
    "    'alpha' : [0.01, 0.1,0.0001, 0.001,],\n",
    "    'penalty': ['none',\"l2\", \"l1\",]\n",
    "}\n",
    "\n",
    "gs_sgd = GridSearchCV(sgd,\n",
    "                     param_grid= sgd_grid,\n",
    "                     cv=5,\n",
    "                     verbose=True)\n",
    "\n",
    "gs_sgd.fit(tfidf_X_train, y_train)"
   ]
  },
  {
   "cell_type": "code",
   "execution_count": 22,
   "id": "5f335850",
   "metadata": {},
   "outputs": [
    {
     "name": "stdout",
     "output_type": "stream",
     "text": [
      "The best score is: 0.936069455406472\n",
      "The best param is: {'alpha': 0.0001, 'loss': 'log', 'penalty': 'none'}\n"
     ]
    }
   ],
   "source": [
    "print(f'The best score is: {gs_sgd.score(tfidf_X_test, y_test)}')\n",
    "print(f'The best param is: {gs_sgd.best_params_}')"
   ]
  },
  {
   "cell_type": "markdown",
   "id": "666c1c5c",
   "metadata": {},
   "source": [
    "Since after we tuned the hyperparam of our model and still did'nt see any improvement,\n",
    "\n",
    "The final model will be basic `SGDClassifier`"
   ]
  },
  {
   "cell_type": "markdown",
   "id": "0258f0b7",
   "metadata": {},
   "source": [
    "## 5.Evaluation Model\n",
    "\n",
    "We're going evaluate our model with:\n",
    "* Problem specific metrics:\n",
    "1. Plot ROC Curve\n",
    "2. AUC score\n",
    "3. Classification Report\n",
    "4. Confusion matrix\n",
    "\n",
    "* The scoring parameter:\n",
    "1. Accuracy\n",
    "2. Precision\n",
    "3. Recall\n",
    "4. F1 score"
   ]
  },
  {
   "cell_type": "code",
   "execution_count": 25,
   "id": "9842c6b4",
   "metadata": {},
   "outputs": [],
   "source": [
    "#Import for the scoring parameter\n",
    "from sklearn.model_selection import cross_val_score\n",
    "\n",
    "#Import for problem specific metrics\n",
    "from sklearn.metrics import plot_confusion_matrix, plot_roc_curve, classification_report"
   ]
  },
  {
   "cell_type": "code",
   "execution_count": 42,
   "id": "d4592fec",
   "metadata": {},
   "outputs": [],
   "source": [
    "np.random.seed(42)\n",
    "#Instantiate model\n",
    "sgd = SGDClassifier()\n",
    "\n",
    "#fit the model to data and use it to make prediction\n",
    "sgd.fit(tfidf_X_train, y_train)\n",
    "\n",
    "y_preds = sgd.predict(tfidf_X_test)\n"
   ]
  },
  {
   "cell_type": "markdown",
   "id": "1c0a85bc",
   "metadata": {},
   "source": [
    "### Plot ROC Curve and AUC score"
   ]
  },
  {
   "cell_type": "code",
   "execution_count": 43,
   "id": "afa98119",
   "metadata": {},
   "outputs": [
    {
     "data": {
      "text/plain": [
       "<sklearn.metrics._plot.roc_curve.RocCurveDisplay at 0x26c87174a60>"
      ]
     },
     "execution_count": 43,
     "metadata": {},
     "output_type": "execute_result"
    },
    {
     "data": {
      "image/png": "[encoded data removed]",
      "text/plain": [
       "<Figure size 432x288 with 1 Axes>"
      ]
     },
     "metadata": {
      "needs_background": "light"
     },
     "output_type": "display_data"
    }
   ],
   "source": [
    "plot_roc_curve(sgd ,tfidf_X_test, y_test)"
   ]
  },
  {
   "cell_type": "markdown",
   "id": "f2f8ea26",
   "metadata": {},
   "source": [
    "### Classification report"
   ]
  },
  {
   "cell_type": "code",
   "execution_count": 44,
   "id": "b580fd01",
   "metadata": {},
   "outputs": [
    {
     "name": "stdout",
     "output_type": "stream",
     "text": [
      "              precision    recall  f1-score   support\n",
      "\n",
      "        FAKE       0.93      0.95      0.94       628\n",
      "        REAL       0.95      0.93      0.94       639\n",
      "\n",
      "    accuracy                           0.94      1267\n",
      "   macro avg       0.94      0.94      0.94      1267\n",
      "weighted avg       0.94      0.94      0.94      1267\n",
      "\n"
     ]
    }
   ],
   "source": [
    "print(classification_report(y_test, y_preds))"
   ]
  },
  {
   "cell_type": "markdown",
   "id": "9c221a31",
   "metadata": {},
   "source": [
    " ### Confusion Matrix\n",
    "Let's see where our model getting confused\n",
    "\n",
    "We also see TPR,FPR to implement on our data"
   ]
  },
  {
   "cell_type": "code",
   "execution_count": 45,
   "id": "21a31dc0",
   "metadata": {},
   "outputs": [
    {
     "data": {
      "text/plain": [
       "<sklearn.metrics._plot.confusion_matrix.ConfusionMatrixDisplay at 0x26ca2aaca00>"
      ]
     },
     "execution_count": 45,
     "metadata": {},
     "output_type": "execute_result"
    },
    {
     "data": {
      "image/png": "[encoded data removed]",
      "text/plain": [
       "<Figure size 432x288 with 1 Axes>"
      ]
     },
     "metadata": {
      "needs_background": "light"
     },
     "output_type": "display_data"
    }
   ],
   "source": [
    "plot_confusion_matrix(sgd, tfidf_X_test, y_test ,\n",
    "                     colorbar=False)"
   ]
  },
  {
   "cell_type": "code",
   "execution_count": 49,
   "id": "f0d77f90",
   "metadata": {},
   "outputs": [
    {
     "name": "stdout",
     "output_type": "stream",
     "text": [
      "The final score is 93.84%\n"
     ]
    }
   ],
   "source": [
    "print(f'The final score is {sgd.score(tfidf_X_test, y_test)* 100:.2f}%')"
   ]
  },
  {
   "cell_type": "markdown",
   "id": "8b6167e8",
   "metadata": {},
   "source": [
    "We've done our project,\n",
    "\n",
    "we've learned:\n",
    "1. How to predict fake news using pyhton,\n",
    "2. How to transform text data into number using features extracition(TfidfVectorizer, CountVectorizer)\n",
    "* Note: When vectorizer  We can't you two columns when split into Features and label\n",
    "\n",
    "3. How to evaluate text model(PassiveAggresiveClassifier, SGDClassifier etc)\n",
    "4. We recap what we've learned before\n",
    "\n",
    "Final score is  SGDClassifier with 93.84%"
   ]
  },
  {
   "cell_type": "code",
   "execution_count": null,
   "id": "e237b587",
   "metadata": {},
   "outputs": [],
   "source": []
  }
 ],
 "metadata": {
  "kernelspec": {
   "display_name": "Python 3",
   "language": "python",
   "name": "python3"
  },
  "language_info": {
   "codemirror_mode": {
    "name": "ipython",
    "version": 3
   },
   "file_extension": ".py",
   "mimetype": "text/x-python",
   "name": "python",
   "nbconvert_exporter": "python",
   "pygments_lexer": "ipython3",
   "version": "3.9.6"
  }
 },
 "nbformat": 4,
 "nbformat_minor": 5
}
